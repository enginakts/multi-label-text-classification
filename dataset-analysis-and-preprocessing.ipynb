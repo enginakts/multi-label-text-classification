{
 "cells": [
  {
   "cell_type": "markdown",
   "id": "9db14d5f",
   "metadata": {},
   "source": [
    "##### Reuters Corpus Volume I (RCV1) Veri Seti\n",
    "##### Veri seti şu adresten indirilecektir: https://www.csie.ntu.edu.tw/~cjlin/libsvmtools/datasets/multilabel.html\n",
    "- https://www.csie.ntu.edu.tw/~cjlin/libsvmtools/datasets/multilabel/rcv1_topics_train.txt.bz2\n",
    "- https://www.csie.ntu.edu.tw/~cjlin/libsvmtools/datasets/multilabel/rcv1_topics_test.txt.bz2\n",
    "\n"
   ]
  },
  {
   "cell_type": "markdown",
   "id": "a1a74135",
   "metadata": {},
   "source": [
    "### Veri seti oluşturma birleştirme ve kaydetme"
   ]
  },
  {
   "cell_type": "code",
   "execution_count": 2,
   "id": "5513dfb7",
   "metadata": {},
   "outputs": [],
   "source": [
    "# Eğitim ve test konu dosyalarını oku\n",
    "train_topics_path = 'extracted_files/rcv1_topics_train.txt'\n",
    "test_topics_path = 'extracted_files/rcv1_topics_test.txt'\n",
    "\n",
    "# Dosyaları oku\n",
    "with open(train_topics_path, 'r') as f:\n",
    "    train_topics = f.readlines()\n",
    "    \n",
    "with open(test_topics_path, 'r') as f:\n",
    "    test_topics = f.readlines()\n",
    "\n",
    "\n"
   ]
  },
  {
   "cell_type": "code",
   "execution_count": 3,
   "id": "c9b63904",
   "metadata": {},
   "outputs": [
    {
     "name": "stdout",
     "output_type": "stream",
     "text": [
      "İlk 5 eğitim konusu:\n",
      "2286\tE11 ECAT M11 M12 MCAT\trecov recov recov recov excit excit bring mexic mexic mexic mexic mexic mexic mexic mexic mexic mexic market market market market market market market life emerg evident evident econom econom econom econom back back back track buzz tuesday tuesday tuesday tuesday tuesday stock stock stock clos record record high high high interest interest interest interest rate rate rate rate rate rate rate month low low low stag begin year ahead term term term term fundament fundament fundament matthew hickm lehm brother york point point point hist hist fall fall fall view etch mind invest cris decemb free peso peso peso stubborn week week quart gross domest domest produc report percent percent percent strong strong strong anal anal expect expect expect expect expect govern treasur bill cete cete second second fell level jan main pric index rally volum frenz million shar confound strength end long long contract drop benchmark auction remain stead feder reserv refrain rais short attract off robust return foreign grow grow confid victim crumbl focus lar schonand head head research research santand city city continu declin inflat gdp growth figur lack upward move move fact play felix boni boni jame capel posit technic uncertain argentin put neighbor brazil risk south americ wary lot hyp export led patch consum venge corpor earn justif run\n",
      "2287\tC24 CCAT\turuguay uruguay compan compan compan bring limit limit mexic capac capac grab market market market market small small small portion emerg rival econom gener motor motor motor ford volkswagen ag tuesday tuesday tuesday stock stock target clos specif segment desir vehicl vehicl vehicl interest applic facil facil dakot dakot dakot low compact begin countr countr year year year year year cherok cherok cherok cherok cherok construc cordob provinc schedul build grand grand start start start york april output site select roll line mid modest invest invest invest invest invest invest invest ultimat unit unit unit unit unit annual annual annual free free employ peopl larg complet knock kit kit ship produc produc produc produc stat stat percent meet bloc local requir decid dodg brand brand brand name canad detroit italian design vm cylind turbocharg model instal miniv sold million million million million million million million million million europ support open dana end end johnson control lear lear techn ppg industr increas stead decad area polit stabl rise buy pow off venezuel neon car financ grow commit made rose cent exchang growth growth play play argentin argentin argentin argentin argentin argentin brazil brazil brazil brazil brazil brazil brazil brazil risk south south south americ americ americ americ americ consum chrysl chrysl chrysl chrysl chrysl chrysl chrysl chrysl chrysl chrysl chrysl chrysl chrysl chrysl chrysl chrysl chrysl plan latin latin corp corp corp corp corp corp corp announc announc includ includ includ includ assembl assembl assembl assembl assembl plant plant plant plant plant plant plant plant plant pickup pickup truck truck truck truck diesel diesel diesel diesel engin engin engin engin expand expand jeep jeep jeep jeep jeep jeep built built built caut rebuild intern intern present project worth worth rough total total total suppl suppl suppl suppl major major major role automak automak automak automak glob strateg chairm robert eaton eaton eaton eaton don don intend intend make risky add add thom gale execut execut vice presid operat content content pace region region region solid opportun boost sale sale sale mercosur mercosur mercosur mercosur mercosur trad trad trad zone zone group paraguay paraguay\n",
      "2288\tC151 C15 CCAT E41 ECAT GCAT GJOB\tspun stak compan compan compan compan compan compan compan compan compan nasdaq early market market tuesday stock clos month month year year year year roll invest modest unit annual peopl larg quart quart quart quart quart quart quart quart quart produc produc produc stat report report report percent percent expect expect expect expect expect expect million million million million million million million million million million million shar shar shar shar end drop increas financ made cent cent cent cent cent cent compuserv compuserv compuserv compuserv compuserv compuserv compuserv compuserv compuserv compuserv compuserv compuserv loss loss loss loss loss loss loss loss cut cut cut cut work work forc forc continu surpris declin declin fisc fisc fisc fisc fisc blam blam numb numb numb numb subscrib subscrib subscrib subscrib subscrib subscrib subscrib onlin onlin onlin onlin servic servic servic servic servic servic servic servic spend fami fami orient orient improv improv improv improv predict half half take step revital chief bob massey massey massey job part part cost cost cost program save americ basi columbus ohio base sell sell spry web brows trail simil netscap earn commun microsoft july july compar profit result result corp corp corp announc pretax charg includ includ includ post actual great wall street revenu revenu expand prev comment cancel exceed flag inform memb memb worldw niftyserv niftyserv joint ventur total japan japan found wow wow infrastructur hit due late version softwar need access make releas releas featur teen parent forecast rosy execut coupl aggress campaign fourth top mark licens advert fee electron commerc trad subsid tax prepar block\n",
      "2289\tC151 C15 CCAT\tspun stak compan compan compan compan compan compan compan compan compan nasdaq early market market tuesday stock clos month month year year year year roll invest modest unit annual peopl larg quart quart quart quart quart quart quart quart quart produc produc produc stat report report report percent percent expect expect expect expect expect expect million million million million million million million million million million million shar shar shar shar end drop increas financ made cent cent cent cent cent cent compuserv compuserv compuserv compuserv compuserv compuserv compuserv compuserv compuserv compuserv compuserv compuserv loss loss loss loss loss loss loss loss cut cut cut cut work work forc forc continu surpris declin declin fisc fisc fisc fisc fisc blam blam numb numb numb numb subscrib subscrib subscrib subscrib subscrib subscrib subscrib onlin onlin onlin onlin servic servic servic servic servic servic servic servic spend fami fami orient orient improv improv improv improv predict half half take step revital chief bob massey massey massey job part part cost cost cost program save americ basi columbus ohio base sell sell spry web brows trail simil netscap earn commun microsoft july july compar profit result result corp corp corp announc pretax charg includ includ includ post actual great wall street revenu revenu expand prev comment cancel exceed flag inform memb memb worldw niftyserv niftyserv joint ventur total japan japan found wow wow infrastructur hit due late version softwar need access make releas releas featur teen parent forecast rosy execut coupl aggress campaign fourth top mark licens advert fee electron commerc trad subsid tax prepar block\n",
      "2290\tC11 C22 CCAT\tcompan compan limit planet planet planet planet planet hollywood hollywood hollywood hollywood hollywood hollywood launch credit credit credit credit card card card card dine feel movie movie star money arnold schwarzeneg them restaur restaur rate applic chain fast outlet festoon kitsch memorabl team william mor talent agent mbna bank wilmington del perk prefer roll seat edition shirt discount food merchandis annual annual join pop cultur ston magazin issu debt fun usual stat percent percent approv pay special introduc balanc transf cash brand advanc check orland florid off grow made spend part americ base includ intern don make fee\n",
      "\n",
      "İlk 5 test konusu:\n",
      "26151\tGCAT GSPO\tsocc colomb colomb colomb colomb beat beat chil chil chil chil world world world cup cup cup qualif qualif qualif qualif halftim south south americ americ match sunday scor faustin asprill st minut minut jorg bermudez ivan zamoran penalt attend group stand tabulat play won draw lost goal goal point ecuador argentin boliv paraguay uruguay peru venezuel note top final franc brazil automat hold\n",
      "26152\tGCAT GSPO\tworld world world world qualif qualif sunday minut minut won hold athlet time time time time time lucky lucky komen komen komen komen break break record record record daniel keny keny keny keny keny keny made shat noureddin morcel morcel morcel morcel morcel morcel morcel met met met met met met second second second second intern meet year year fail fail atlant olymp olymp olymp olymp clock clock clock clock set set ago mont carl blist form grand grand prix prix circuit mark mark monac month brussel august fast fast hist hist finish finish back back sixth plac david kisang led field lead carry ahead ahead near rival shem koror italian gennar di napol champ champ young good deserv today result told report mean thing ve mile comfort burund venust niyongab born wilson kipket run denmark\n",
      "26153\tGCAT GSPO\thernandez socc jess colomb valient beat beat gabriel gabriel chil urdanet world world world vera cup cup cup mirand qualif juan juan socor south south hernndez americ americ sunday scor scor minut minut jorg ivan group play lost point point ecuador ecuador ecuador ecuador ecuador ecuador ecuador ecuador argentin venezuel venezuel top brazil record month finish david field good born step step quit sept win win game game game captain alex alex aguinag aguinag aguinag featur nation nation tourna prec jeer crowd expect high weak team team team snap rebound shot gilson gilson de de souz souz fourth unabl add tally coach boss francisc maturan home impress start chanc long quest ask defeat santiag ventur carlo moral wagn river hurtad hurtad maxim tenorio lui lui lui lui capur diaz alfons obregon hect carabal jose garcia garcia angel fernandez eduard rafael dudamel filos william gonzalez edson tortoler macintosh sergio\n",
      "26154\tGCAT GSPO\tbeat beat beat world world world world world world cup americ match cycl cycl sunday rousseau rousseau rousseau scor scor complet complet complet uniqu uniqu doubl doubl doubl florian sprint sprint sprint week take gold gold medal medal medal km trial day day marty marty nothstein nothstein nothstein unit unit stat stat won won frenchm didn bercy point point point point track track track pari appear drain race race race battl battl overcom defend defend darryn hill austral austral austral final final final final semifin franc franc franc hll cross line relegat rough time time ride ride ride ride rob bad record decid decid ll perth made lose felt keirin early early sery met met second find pow pow motor pure year year year year heart determin atlant marion olymp clignet clignet clignet clignet lucy tyl tyl ago sharm sharm women individual pursuit grand antonel prix bellut brok event adopt streamlin superm styl styl develop britain britain finish graem obree amaz differ plac move bike countback field need kms titl titl rossel llaner llaner llaner spain spain michael sandstod sandstod sandstod lap lap lap attack spent rest rest succeed champ champ champ champ champ champ champ gain advant good level award today span silvio martinel italy italy miss breakaway settl bronz arrear compet confirm status success russia denmark win win win win win win nation expect high home defeat\n",
      "26155\tGCAT GSPO\tworld world sunday day stand stand point point race race final final final franc franc champ champ result result italy motocross motocross cc cc round round stef evert evert evert evert belg belg belg hond hond marnicq bervoet bervoet bervoet bervoet suzuk suzuk freder bolley bolley bolley bolley kawasak kawasak pit beir beir beir german tallon vohland vohland yve demar demar demar demar yamah yamah wern dewit dewit provis andrea bartolin\n"
     ]
    }
   ],
   "source": [
    "# İlk birkaç örneği göster\n",
    "print(\"İlk 5 eğitim konusu:\")\n",
    "for i in range(5):\n",
    "    print(train_topics[i].strip())\n",
    "\n",
    "print(\"\\nİlk 5 test konusu:\")\n",
    "for i in range(5):\n",
    "    print(test_topics[i].strip())\n"
   ]
  },
  {
   "cell_type": "code",
   "execution_count": 4,
   "id": "aa206b1a",
   "metadata": {},
   "outputs": [],
   "source": [
    "# Eğitim ve test verilerini işle\n",
    "train_dataset = []\n",
    "test_dataset = []"
   ]
  },
  {
   "cell_type": "code",
   "execution_count": 5,
   "id": "91f97c16",
   "metadata": {},
   "outputs": [],
   "source": [
    "# Eğitim verilerini işle\n",
    "for topic in train_topics:\n",
    "    # Her satırı parçala\n",
    "    parts = topic.strip().split('\\t')\n",
    "    if len(parts) >= 3:\n",
    "        doc_id = parts[0]\n",
    "        label = parts[1]\n",
    "        text = parts[2]\n",
    "        train_dataset.append({\n",
    "            'id': doc_id,\n",
    "            'label': label,\n",
    "            'text': text\n",
    "        })"
   ]
  },
  {
   "cell_type": "code",
   "execution_count": 6,
   "id": "6804475b",
   "metadata": {},
   "outputs": [],
   "source": [
    "# Test verilerini işle\n",
    "for topic in test_topics:\n",
    "    # Her satırı parçala \n",
    "    parts = topic.strip().split('\\t')\n",
    "    if len(parts) >= 3:\n",
    "        doc_id = parts[0]\n",
    "        label = parts[1]\n",
    "        text = parts[2]\n",
    "        test_dataset.append({\n",
    "            'id': doc_id,\n",
    "            'label': label,\n",
    "            'text': text\n",
    "        })"
   ]
  },
  {
   "cell_type": "code",
   "execution_count": 7,
   "id": "a47b6fa7",
   "metadata": {},
   "outputs": [
    {
     "name": "stdout",
     "output_type": "stream",
     "text": [
      "Eğitim veri setinden ilk 3 örnek:\n",
      "{'id': '2286', 'label': 'E11 ECAT M11 M12 MCAT', 'text': 'recov recov recov recov excit excit bring mexic mexic mexic mexic mexic mexic mexic mexic mexic mexic market market market market market market market life emerg evident evident econom econom econom econom back back back track buzz tuesday tuesday tuesday tuesday tuesday stock stock stock clos record record high high high interest interest interest interest rate rate rate rate rate rate rate month low low low stag begin year ahead term term term term fundament fundament fundament matthew hickm lehm brother york point point point hist hist fall fall fall view etch mind invest cris decemb free peso peso peso stubborn week week quart gross domest domest produc report percent percent percent strong strong strong anal anal expect expect expect expect expect govern treasur bill cete cete second second fell level jan main pric index rally volum frenz million shar confound strength end long long contract drop benchmark auction remain stead feder reserv refrain rais short attract off robust return foreign grow grow confid victim crumbl focus lar schonand head head research research santand city city continu declin inflat gdp growth figur lack upward move move fact play felix boni boni jame capel posit technic uncertain argentin put neighbor brazil risk south americ wary lot hyp export led patch consum venge corpor earn justif run'}\n",
      "{'id': '2287', 'label': 'C24 CCAT', 'text': 'uruguay uruguay compan compan compan bring limit limit mexic capac capac grab market market market market small small small portion emerg rival econom gener motor motor motor ford volkswagen ag tuesday tuesday tuesday stock stock target clos specif segment desir vehicl vehicl vehicl interest applic facil facil dakot dakot dakot low compact begin countr countr year year year year year cherok cherok cherok cherok cherok construc cordob provinc schedul build grand grand start start start york april output site select roll line mid modest invest invest invest invest invest invest invest ultimat unit unit unit unit unit annual annual annual free free employ peopl larg complet knock kit kit ship produc produc produc produc stat stat percent meet bloc local requir decid dodg brand brand brand name canad detroit italian design vm cylind turbocharg model instal miniv sold million million million million million million million million million europ support open dana end end johnson control lear lear techn ppg industr increas stead decad area polit stabl rise buy pow off venezuel neon car financ grow commit made rose cent exchang growth growth play play argentin argentin argentin argentin argentin argentin brazil brazil brazil brazil brazil brazil brazil brazil risk south south south americ americ americ americ americ consum chrysl chrysl chrysl chrysl chrysl chrysl chrysl chrysl chrysl chrysl chrysl chrysl chrysl chrysl chrysl chrysl chrysl plan latin latin corp corp corp corp corp corp corp announc announc includ includ includ includ assembl assembl assembl assembl assembl plant plant plant plant plant plant plant plant plant pickup pickup truck truck truck truck diesel diesel diesel diesel engin engin engin engin expand expand jeep jeep jeep jeep jeep jeep built built built caut rebuild intern intern present project worth worth rough total total total suppl suppl suppl suppl major major major role automak automak automak automak glob strateg chairm robert eaton eaton eaton eaton don don intend intend make risky add add thom gale execut execut vice presid operat content content pace region region region solid opportun boost sale sale sale mercosur mercosur mercosur mercosur mercosur trad trad trad zone zone group paraguay paraguay'}\n",
      "{'id': '2288', 'label': 'C151 C15 CCAT E41 ECAT GCAT GJOB', 'text': 'spun stak compan compan compan compan compan compan compan compan compan nasdaq early market market tuesday stock clos month month year year year year roll invest modest unit annual peopl larg quart quart quart quart quart quart quart quart quart produc produc produc stat report report report percent percent expect expect expect expect expect expect million million million million million million million million million million million shar shar shar shar end drop increas financ made cent cent cent cent cent cent compuserv compuserv compuserv compuserv compuserv compuserv compuserv compuserv compuserv compuserv compuserv compuserv loss loss loss loss loss loss loss loss cut cut cut cut work work forc forc continu surpris declin declin fisc fisc fisc fisc fisc blam blam numb numb numb numb subscrib subscrib subscrib subscrib subscrib subscrib subscrib onlin onlin onlin onlin servic servic servic servic servic servic servic servic spend fami fami orient orient improv improv improv improv predict half half take step revital chief bob massey massey massey job part part cost cost cost program save americ basi columbus ohio base sell sell spry web brows trail simil netscap earn commun microsoft july july compar profit result result corp corp corp announc pretax charg includ includ includ post actual great wall street revenu revenu expand prev comment cancel exceed flag inform memb memb worldw niftyserv niftyserv joint ventur total japan japan found wow wow infrastructur hit due late version softwar need access make releas releas featur teen parent forecast rosy execut coupl aggress campaign fourth top mark licens advert fee electron commerc trad subsid tax prepar block'}\n"
     ]
    }
   ],
   "source": [
    "# Veri setlerinin ilk birkaç örneğini göster\n",
    "print(\"Eğitim veri setinden ilk 3 örnek:\")\n",
    "for i in range(3):\n",
    "    print(train_dataset[i])"
   ]
  },
  {
   "cell_type": "code",
   "execution_count": 8,
   "id": "f6ac8978",
   "metadata": {},
   "outputs": [
    {
     "name": "stdout",
     "output_type": "stream",
     "text": [
      "\n",
      "Test veri setinden ilk 3 örnek:\n",
      "{'id': '26151', 'label': 'GCAT GSPO', 'text': 'socc colomb colomb colomb colomb beat beat chil chil chil chil world world world cup cup cup qualif qualif qualif qualif halftim south south americ americ match sunday scor faustin asprill st minut minut jorg bermudez ivan zamoran penalt attend group stand tabulat play won draw lost goal goal point ecuador argentin boliv paraguay uruguay peru venezuel note top final franc brazil automat hold'}\n",
      "{'id': '26152', 'label': 'GCAT GSPO', 'text': 'world world world world qualif qualif sunday minut minut won hold athlet time time time time time lucky lucky komen komen komen komen break break record record record daniel keny keny keny keny keny keny made shat noureddin morcel morcel morcel morcel morcel morcel morcel met met met met met met second second second second intern meet year year fail fail atlant olymp olymp olymp olymp clock clock clock clock set set ago mont carl blist form grand grand prix prix circuit mark mark monac month brussel august fast fast hist hist finish finish back back sixth plac david kisang led field lead carry ahead ahead near rival shem koror italian gennar di napol champ champ young good deserv today result told report mean thing ve mile comfort burund venust niyongab born wilson kipket run denmark'}\n",
      "{'id': '26153', 'label': 'GCAT GSPO', 'text': 'hernandez socc jess colomb valient beat beat gabriel gabriel chil urdanet world world world vera cup cup cup mirand qualif juan juan socor south south hernndez americ americ sunday scor scor minut minut jorg ivan group play lost point point ecuador ecuador ecuador ecuador ecuador ecuador ecuador ecuador argentin venezuel venezuel top brazil record month finish david field good born step step quit sept win win game game game captain alex alex aguinag aguinag aguinag featur nation nation tourna prec jeer crowd expect high weak team team team snap rebound shot gilson gilson de de souz souz fourth unabl add tally coach boss francisc maturan home impress start chanc long quest ask defeat santiag ventur carlo moral wagn river hurtad hurtad maxim tenorio lui lui lui lui capur diaz alfons obregon hect carabal jose garcia garcia angel fernandez eduard rafael dudamel filos william gonzalez edson tortoler macintosh sergio'}\n"
     ]
    }
   ],
   "source": [
    "\n",
    "print(\"\\nTest veri setinden ilk 3 örnek:\")\n",
    "for i in range(3):\n",
    "    print(test_dataset[i])\n",
    "\n"
   ]
  },
  {
   "cell_type": "code",
   "execution_count": 9,
   "id": "14a15994",
   "metadata": {},
   "outputs": [
    {
     "name": "stdout",
     "output_type": "stream",
     "text": [
      "\n",
      "Birleştirilmiş veri setinden ilk 3 örnek:\n",
      "{'id': '2286', 'label': 'E11 ECAT M11 M12 MCAT', 'text': 'recov recov recov recov excit excit bring mexic mexic mexic mexic mexic mexic mexic mexic mexic mexic market market market market market market market life emerg evident evident econom econom econom econom back back back track buzz tuesday tuesday tuesday tuesday tuesday stock stock stock clos record record high high high interest interest interest interest rate rate rate rate rate rate rate month low low low stag begin year ahead term term term term fundament fundament fundament matthew hickm lehm brother york point point point hist hist fall fall fall view etch mind invest cris decemb free peso peso peso stubborn week week quart gross domest domest produc report percent percent percent strong strong strong anal anal expect expect expect expect expect govern treasur bill cete cete second second fell level jan main pric index rally volum frenz million shar confound strength end long long contract drop benchmark auction remain stead feder reserv refrain rais short attract off robust return foreign grow grow confid victim crumbl focus lar schonand head head research research santand city city continu declin inflat gdp growth figur lack upward move move fact play felix boni boni jame capel posit technic uncertain argentin put neighbor brazil risk south americ wary lot hyp export led patch consum venge corpor earn justif run'}\n",
      "{'id': '2287', 'label': 'C24 CCAT', 'text': 'uruguay uruguay compan compan compan bring limit limit mexic capac capac grab market market market market small small small portion emerg rival econom gener motor motor motor ford volkswagen ag tuesday tuesday tuesday stock stock target clos specif segment desir vehicl vehicl vehicl interest applic facil facil dakot dakot dakot low compact begin countr countr year year year year year cherok cherok cherok cherok cherok construc cordob provinc schedul build grand grand start start start york april output site select roll line mid modest invest invest invest invest invest invest invest ultimat unit unit unit unit unit annual annual annual free free employ peopl larg complet knock kit kit ship produc produc produc produc stat stat percent meet bloc local requir decid dodg brand brand brand name canad detroit italian design vm cylind turbocharg model instal miniv sold million million million million million million million million million europ support open dana end end johnson control lear lear techn ppg industr increas stead decad area polit stabl rise buy pow off venezuel neon car financ grow commit made rose cent exchang growth growth play play argentin argentin argentin argentin argentin argentin brazil brazil brazil brazil brazil brazil brazil brazil risk south south south americ americ americ americ americ consum chrysl chrysl chrysl chrysl chrysl chrysl chrysl chrysl chrysl chrysl chrysl chrysl chrysl chrysl chrysl chrysl chrysl plan latin latin corp corp corp corp corp corp corp announc announc includ includ includ includ assembl assembl assembl assembl assembl plant plant plant plant plant plant plant plant plant pickup pickup truck truck truck truck diesel diesel diesel diesel engin engin engin engin expand expand jeep jeep jeep jeep jeep jeep built built built caut rebuild intern intern present project worth worth rough total total total suppl suppl suppl suppl major major major role automak automak automak automak glob strateg chairm robert eaton eaton eaton eaton don don intend intend make risky add add thom gale execut execut vice presid operat content content pace region region region solid opportun boost sale sale sale mercosur mercosur mercosur mercosur mercosur trad trad trad zone zone group paraguay paraguay'}\n",
      "{'id': '2288', 'label': 'C151 C15 CCAT E41 ECAT GCAT GJOB', 'text': 'spun stak compan compan compan compan compan compan compan compan compan nasdaq early market market tuesday stock clos month month year year year year roll invest modest unit annual peopl larg quart quart quart quart quart quart quart quart quart produc produc produc stat report report report percent percent expect expect expect expect expect expect million million million million million million million million million million million shar shar shar shar end drop increas financ made cent cent cent cent cent cent compuserv compuserv compuserv compuserv compuserv compuserv compuserv compuserv compuserv compuserv compuserv compuserv loss loss loss loss loss loss loss loss cut cut cut cut work work forc forc continu surpris declin declin fisc fisc fisc fisc fisc blam blam numb numb numb numb subscrib subscrib subscrib subscrib subscrib subscrib subscrib onlin onlin onlin onlin servic servic servic servic servic servic servic servic spend fami fami orient orient improv improv improv improv predict half half take step revital chief bob massey massey massey job part part cost cost cost program save americ basi columbus ohio base sell sell spry web brows trail simil netscap earn commun microsoft july july compar profit result result corp corp corp announc pretax charg includ includ includ post actual great wall street revenu revenu expand prev comment cancel exceed flag inform memb memb worldw niftyserv niftyserv joint ventur total japan japan found wow wow infrastructur hit due late version softwar need access make releas releas featur teen parent forecast rosy execut coupl aggress campaign fourth top mark licens advert fee electron commerc trad subsid tax prepar block'}\n",
      "\n",
      "Toplam örnek sayısı: 165804\n"
     ]
    }
   ],
   "source": [
    "# Eğitim ve test veri setlerini birleştir\n",
    "combined_dataset = train_dataset + test_dataset\n",
    "\n",
    "print(\"\\nBirleştirilmiş veri setinden ilk 3 örnek:\")\n",
    "for i in range(3):\n",
    "    print(combined_dataset[i])\n",
    "\n",
    "print(f\"\\nToplam örnek sayısı: {len(combined_dataset)}\")\n",
    "\n"
   ]
  },
  {
   "cell_type": "code",
   "execution_count": 10,
   "id": "eaacb47d",
   "metadata": {},
   "outputs": [
    {
     "name": "stdout",
     "output_type": "stream",
     "text": [
      "Toplam örnek sayısı: 165804\n",
      "Tekrarlı örnek sayısı: 7000\n",
      "Benzersiz örnek sayısı: 158804\n",
      "\n",
      "Tekrarlı örneklerden bazıları:\n",
      "\n",
      "ID: 2289\n",
      "Label: C151 C15 CCAT\n",
      "Text: spun stak compan compan compan compan compan compan compan compan compan nasdaq early market market tuesday stock clos month month year year year year roll invest modest unit annual peopl larg quart quart quart quart quart quart quart quart quart produc produc produc stat report report report percent percent expect expect expect expect expect expect million million million million million million million million million million million shar shar shar shar end drop increas financ made cent cent cent cent cent cent compuserv compuserv compuserv compuserv compuserv compuserv compuserv compuserv compuserv compuserv compuserv compuserv loss loss loss loss loss loss loss loss cut cut cut cut work work forc forc continu surpris declin declin fisc fisc fisc fisc fisc blam blam numb numb numb numb subscrib subscrib subscrib subscrib subscrib subscrib subscrib onlin onlin onlin onlin servic servic servic servic servic servic servic servic spend fami fami orient orient improv improv improv improv predict half half take step revital chief bob massey massey massey job part part cost cost cost program save americ basi columbus ohio base sell sell spry web brows trail simil netscap earn commun microsoft july july compar profit result result corp corp corp announc pretax charg includ includ includ post actual great wall street revenu revenu expand prev comment cancel exceed flag inform memb memb worldw niftyserv niftyserv joint ventur total japan japan found wow wow infrastructur hit due late version softwar need access make releas releas featur teen parent forecast rosy execut coupl aggress campaign fourth top mark licens advert fee electron commerc trad subsid tax prepar block\n",
      "Daha önce görüldüğü ID: 2288\n"
     ]
    }
   ],
   "source": [
    "# Tekrarlı verileri kontrol et\n",
    "unique_texts = set()\n",
    "duplicate_count = 0\n",
    "\n",
    "for doc in combined_dataset:\n",
    "    text = doc['text']\n",
    "    if text in unique_texts:\n",
    "        duplicate_count += 1\n",
    "    else:\n",
    "        unique_texts.add(text)\n",
    "\n",
    "print(f\"Toplam örnek sayısı: {len(combined_dataset)}\")\n",
    "print(f\"Tekrarlı örnek sayısı: {duplicate_count}\")\n",
    "print(f\"Benzersiz örnek sayısı: {len(unique_texts)}\")\n",
    "\n",
    "if duplicate_count > 0:\n",
    "    print(\"\\nTekrarlı örneklerden bazıları:\")\n",
    "    seen_texts = {}\n",
    "    for doc in combined_dataset:\n",
    "        text = doc['text']\n",
    "        if text in seen_texts:\n",
    "            print(f\"\\nID: {doc['id']}\")\n",
    "            print(f\"Label: {doc['label']}\")\n",
    "            print(f\"Text: {text}\")\n",
    "            print(f\"Daha önce görüldüğü ID: {seen_texts[text]}\")\n",
    "            break\n",
    "        else:\n",
    "            seen_texts[text] = doc['id']\n"
   ]
  },
  {
   "cell_type": "code",
   "execution_count": 11,
   "id": "8e6746f4",
   "metadata": {},
   "outputs": [
    {
     "name": "stdout",
     "output_type": "stream",
     "text": [
      "\n",
      "Tekrarlı örnekler silindikten sonra kalan örnek sayısı: 158804\n"
     ]
    }
   ],
   "source": [
    "# Tekrarlı örnekleri sil\n",
    "unique_dataset = []\n",
    "seen_texts = set()\n",
    "\n",
    "for doc in combined_dataset:\n",
    "    text = doc['text']\n",
    "    if text not in seen_texts:\n",
    "        unique_dataset.append(doc)\n",
    "        seen_texts.add(text)\n",
    "\n",
    "# Eski veri setini güncelle\n",
    "combined_dataset = unique_dataset\n",
    "\n",
    "print(f\"\\nTekrarlı örnekler silindikten sonra kalan örnek sayısı: {len(combined_dataset)}\")\n"
   ]
  },
  {
   "cell_type": "code",
   "execution_count": 12,
   "id": "3425ac9b",
   "metadata": {},
   "outputs": [
    {
     "name": "stdout",
     "output_type": "stream",
     "text": [
      "Veri seti 'dataset.csv' dosyasına kaydedildi.\n"
     ]
    }
   ],
   "source": [
    "# Veri setini CSV formatına dönüştür ve kaydet\n",
    "import pandas as pd\n",
    "\n",
    "# Dictionary'leri DataFrame'e dönüştür\n",
    "df = pd.DataFrame(combined_dataset)\n",
    "\n",
    "# CSV dosyasına kaydet\n",
    "df.to_csv('dataset.csv', index=False)\n",
    "print(\"Veri seti 'dataset.csv' dosyasına kaydedildi.\")\n"
   ]
  },
  {
   "cell_type": "markdown",
   "id": "4e6bdbe0",
   "metadata": {},
   "source": [
    "### Veri Seti Ön işleme"
   ]
  },
  {
   "cell_type": "code",
   "execution_count": 106,
   "id": "d6f54f81",
   "metadata": {},
   "outputs": [
    {
     "name": "stdout",
     "output_type": "stream",
     "text": [
      "Veri seti başarıyla okundu.\n",
      "Toplam örnek sayısı: 158804\n"
     ]
    }
   ],
   "source": [
    "# CSV dosyasını oku\n",
    "df = pd.read_csv('dataset.csv')\n",
    "print(\"Veri seti başarıyla okundu.\")\n",
    "print(f\"Toplam örnek sayısı: {len(df)}\")\n"
   ]
  },
  {
   "cell_type": "code",
   "execution_count": 107,
   "id": "584b78b5",
   "metadata": {},
   "outputs": [
    {
     "data": {
      "text/plain": [
       "id       0\n",
       "label    0\n",
       "text     0\n",
       "dtype: int64"
      ]
     },
     "execution_count": 107,
     "metadata": {},
     "output_type": "execute_result"
    }
   ],
   "source": [
    "df.isnull().sum()"
   ]
  },
  {
   "cell_type": "markdown",
   "id": "6be98de0",
   "metadata": {},
   "source": [
    "#### Veri seti hakkında genel bilgileri göster"
   ]
  },
  {
   "cell_type": "code",
   "execution_count": 108,
   "id": "7473480d",
   "metadata": {},
   "outputs": [],
   "source": [
    "# Görselleştirme için matplotlib'i kullan\n",
    "import matplotlib.pyplot as plt"
   ]
  },
  {
   "cell_type": "code",
   "execution_count": 109,
   "id": "2f9391cf",
   "metadata": {},
   "outputs": [
    {
     "name": "stdout",
     "output_type": "stream",
     "text": [
      "\n",
      "Veri seti hakkında genel bilgiler:\n",
      "----------------------------------------\n",
      "<class 'pandas.core.frame.DataFrame'>\n",
      "RangeIndex: 158804 entries, 0 to 158803\n",
      "Data columns (total 3 columns):\n",
      " #   Column  Non-Null Count   Dtype \n",
      "---  ------  --------------   ----- \n",
      " 0   id      158804 non-null  int64 \n",
      " 1   label   158804 non-null  object\n",
      " 2   text    158804 non-null  object\n",
      "dtypes: int64(1), object(2)\n",
      "memory usage: 3.6+ MB\n",
      "None\n"
     ]
    }
   ],
   "source": [
    "print(\"\\nVeri seti hakkında genel bilgiler:\")\n",
    "print(\"-\" * 40)\n",
    "print(df.info())"
   ]
  },
  {
   "cell_type": "code",
   "execution_count": 110,
   "id": "7510b152",
   "metadata": {},
   "outputs": [
    {
     "name": "stdout",
     "output_type": "stream",
     "text": [
      "\n",
      "Veri setinin ilk 5 satırı:\n",
      "----------------------------------------\n",
      "     id                             label  \\\n",
      "0  2286             E11 ECAT M11 M12 MCAT   \n",
      "1  2287                          C24 CCAT   \n",
      "2  2288  C151 C15 CCAT E41 ECAT GCAT GJOB   \n",
      "3  2290                      C11 C22 CCAT   \n",
      "4  2291                          M14 MCAT   \n",
      "\n",
      "                                                text  \n",
      "0  recov recov recov recov excit excit bring mexi...  \n",
      "1  uruguay uruguay compan compan compan bring lim...  \n",
      "2  spun stak compan compan compan compan compan c...  \n",
      "3  compan compan limit planet planet planet plane...  \n",
      "4  compan compan limit limit limit market market ...  \n"
     ]
    }
   ],
   "source": [
    "\n",
    "print(\"\\nVeri setinin ilk 5 satırı:\")\n",
    "print(\"-\" * 40)\n",
    "print(df.head())"
   ]
  },
  {
   "cell_type": "code",
   "execution_count": 111,
   "id": "4e8dd1c4",
   "metadata": {},
   "outputs": [
    {
     "name": "stdout",
     "output_type": "stream",
     "text": [
      "\n",
      "Veri setinin istatistiksel özeti:\n",
      "----------------------------------------\n",
      "                  id\n",
      "count  158804.000000\n",
      "mean    86249.455203\n",
      "std     48394.411479\n",
      "min      2286.000000\n",
      "25%     44215.750000\n",
      "50%     86376.000000\n",
      "75%    128212.250000\n",
      "max    169854.000000\n"
     ]
    }
   ],
   "source": [
    "print(\"\\nVeri setinin istatistiksel özeti:\")\n",
    "print(\"-\" * 40)\n",
    "print(df.describe())"
   ]
  },
  {
   "cell_type": "code",
   "execution_count": 112,
   "id": "5d4bd099",
   "metadata": {},
   "outputs": [
    {
     "name": "stdout",
     "output_type": "stream",
     "text": [
      "\n",
      "Etiket dağılımı:\n",
      "----------------------------------------\n",
      "label\n",
      "C151 C15 CCAT                               11751\n",
      "M11 MCAT                                     7034\n",
      "GCAT GSPO                                    6622\n",
      "C15 C152 CCAT                                5632\n",
      "M141 M14 MCAT                                5583\n",
      "                                            ...  \n",
      "E211 E21 E212 ECAT GCAT GPOL GWELF              1\n",
      "C17 CCAT G15 G157 GCAT GHEA                     1\n",
      "C13 C42 CCAT E14 E41 ECAT GCAT GJOB GPOL        1\n",
      "C151 C15 CCAT E41 ECAT GCAT GJOB                1\n",
      "E211 E21 ECAT GCAT GPOL GREL GVOTE              1\n",
      "Name: count, Length: 6427, dtype: int64\n",
      "\n",
      "Etiket dağılımı (yüzde):\n",
      "label\n",
      "C151 C15 CCAT                               7.399688\n",
      "M11 MCAT                                    4.429359\n",
      "GCAT GSPO                                   4.169920\n",
      "C15 C152 CCAT                               3.546510\n",
      "M141 M14 MCAT                               3.515655\n",
      "                                              ...   \n",
      "E211 E21 E212 ECAT GCAT GPOL GWELF          0.000630\n",
      "C17 CCAT G15 G157 GCAT GHEA                 0.000630\n",
      "C13 C42 CCAT E14 E41 ECAT GCAT GJOB GPOL    0.000630\n",
      "C151 C15 CCAT E41 ECAT GCAT GJOB            0.000630\n",
      "E211 E21 ECAT GCAT GPOL GREL GVOTE          0.000630\n",
      "Name: proportion, Length: 6427, dtype: float64\n"
     ]
    }
   ],
   "source": [
    "\n",
    "# Etiket dağılımını göster\n",
    "print(\"\\nEtiket dağılımı:\")\n",
    "print(\"-\" * 40)\n",
    "print(df['label'].value_counts())\n",
    "print(\"\\nEtiket dağılımı (yüzde):\")\n",
    "print(df['label'].value_counts(normalize=True) * 100)\n"
   ]
  },
  {
   "cell_type": "markdown",
   "id": "126041d3",
   "metadata": {},
   "source": [
    "#### Etiketleri Sütuna çevirme"
   ]
  },
  {
   "cell_type": "code",
   "execution_count": 113,
   "id": "d999927e",
   "metadata": {},
   "outputs": [
    {
     "name": "stderr",
     "output_type": "stream",
     "text": [
      "C:\\Users\\engin\\AppData\\Local\\Temp\\ipykernel_12704\\3531173281.py:9: PerformanceWarning: DataFrame is highly fragmented.  This is usually the result of calling `frame.insert` many times, which has poor performance.  Consider joining all columns at once using pd.concat(axis=1) instead. To get a de-fragmented frame, use `newframe = frame.copy()`\n",
      "  df[label] = 0\n",
      "C:\\Users\\engin\\AppData\\Local\\Temp\\ipykernel_12704\\3531173281.py:9: PerformanceWarning: DataFrame is highly fragmented.  This is usually the result of calling `frame.insert` many times, which has poor performance.  Consider joining all columns at once using pd.concat(axis=1) instead. To get a de-fragmented frame, use `newframe = frame.copy()`\n",
      "  df[label] = 0\n",
      "C:\\Users\\engin\\AppData\\Local\\Temp\\ipykernel_12704\\3531173281.py:9: PerformanceWarning: DataFrame is highly fragmented.  This is usually the result of calling `frame.insert` many times, which has poor performance.  Consider joining all columns at once using pd.concat(axis=1) instead. To get a de-fragmented frame, use `newframe = frame.copy()`\n",
      "  df[label] = 0\n",
      "C:\\Users\\engin\\AppData\\Local\\Temp\\ipykernel_12704\\3531173281.py:9: PerformanceWarning: DataFrame is highly fragmented.  This is usually the result of calling `frame.insert` many times, which has poor performance.  Consider joining all columns at once using pd.concat(axis=1) instead. To get a de-fragmented frame, use `newframe = frame.copy()`\n",
      "  df[label] = 0\n"
     ]
    },
    {
     "name": "stdout",
     "output_type": "stream",
     "text": [
      "\n",
      "Etiket dönüşümü sonrası veri setinin boyutu:\n",
      "----------------------------------------\n",
      "(158804, 105)\n",
      "\n",
      "Dönüştürülmüş etiket sütunlarının ilk 5 satırı:\n",
      "----------------------------------------\n",
      "   E142  GDEF  C42  M143  C331  M13  C313  G154  GCAT  E51  ...  GSCI  E61  \\\n",
      "0     0     0    0     0     0    0     0     0     0    0  ...     0    0   \n",
      "1     0     0    0     0     0    0     0     0     0    0  ...     0    0   \n",
      "2     0     0    0     0     0    0     0     0     1    0  ...     0    0   \n",
      "3     0     0    0     0     0    0     0     0     0    0  ...     0    0   \n",
      "4     0     0    0     0     0    0     0     0     0    0  ...     0    0   \n",
      "\n",
      "   C183  C21  ECAT  G15  GWELF  GPOL  M131  GFAS  \n",
      "0     0    0     1    0      0     0     0     0  \n",
      "1     0    0     0    0      0     0     0     0  \n",
      "2     0    0     1    0      0     0     0     0  \n",
      "3     0    0     0    0      0     0     0     0  \n",
      "4     0    0     0    0      0     0     0     0  \n",
      "\n",
      "[5 rows x 102 columns]\n"
     ]
    }
   ],
   "source": [
    "# Her bir etiketin listesini oluştur\n",
    "labels = []\n",
    "for label_str in df['label'].str.split():\n",
    "    labels.extend(label_str)\n",
    "unique_labels = list(set(labels))\n",
    "\n",
    "# Her bir etiket için yeni bir sütun oluştur ve başlangıçta 0 ile doldur\n",
    "for label in unique_labels:\n",
    "    df[label] = 0\n",
    "\n",
    "# Her satır için etiketleri kontrol edip ilgili sütunları 1 yap\n",
    "for idx, row in df.iterrows():\n",
    "    row_labels = row['label'].split()\n",
    "    for label in row_labels:\n",
    "        df.at[idx, label] = 1\n",
    "\n",
    "print(\"\\nEtiket dönüşümü sonrası veri setinin boyutu:\")\n",
    "print(\"-\" * 40)\n",
    "print(df.shape)\n",
    "\n",
    "print(\"\\nDönüştürülmüş etiket sütunlarının ilk 5 satırı:\")\n",
    "print(\"-\" * 40)\n",
    "print(df[unique_labels].head())\n"
   ]
  },
  {
   "cell_type": "code",
   "execution_count": 114,
   "id": "92b563a1",
   "metadata": {},
   "outputs": [
    {
     "data": {
      "image/png": "[encoded data removed]",
      "text/plain": [
       "<Figure size 1500x600 with 1 Axes>"
      ]
     },
     "metadata": {},
     "output_type": "display_data"
    },
    {
     "name": "stdout",
     "output_type": "stream",
     "text": [
      "\n",
      "Etiketlerin kullanım sayıları:\n",
      "----------------------------------------\n",
      "CCAT    77690\n",
      "GCAT    49554\n",
      "MCAT    35631\n",
      "C15     29535\n",
      "ECAT    23664\n",
      "        ...  \n",
      "G156       52\n",
      "E142       42\n",
      "E313       18\n",
      "G159       12\n",
      "E312        8\n",
      "Length: 102, dtype: int64\n"
     ]
    }
   ],
   "source": [
    "# Etiket sütunlarındaki 1'lerin toplamını hesapla\n",
    "label_counts = df[unique_labels].sum().sort_values(ascending=False)\n",
    "\n",
    "\n",
    "\n",
    "plt.figure(figsize=(15, 6))\n",
    "plt.bar(label_counts.index, label_counts.values)\n",
    "plt.title('Etiketlerin Dağılımı')\n",
    "plt.xlabel('Etiketler')\n",
    "plt.ylabel('Toplam Kullanım Sayısı')\n",
    "plt.xticks(rotation=45, ha='right')\n",
    "plt.tight_layout()\n",
    "plt.show()\n",
    "\n",
    "# Sayısal değerleri de göster\n",
    "print(\"\\nEtiketlerin kullanım sayıları:\")\n",
    "print(\"-\" * 40)\n",
    "print(label_counts)\n"
   ]
  },
  {
   "cell_type": "code",
   "execution_count": 115,
   "id": "421b2baf",
   "metadata": {},
   "outputs": [
    {
     "name": "stdout",
     "output_type": "stream",
     "text": [
      "\n",
      "C18 ve alt etiketlerinin toplam kullanım sayıları:\n",
      "----------------------------------------\n",
      "C18     10718\n",
      "C181     8821\n",
      "C183     1562\n",
      "C182      949\n",
      "dtype: int64\n"
     ]
    }
   ],
   "source": [
    "# C18 ve alt etiketlerinin toplam kullanım sayısını göster\n",
    "c18_labels = [col for col in df.columns if col.startswith('C18')]\n",
    "c18_counts = df[c18_labels].sum().sort_values(ascending=False)\n",
    "\n",
    "print(\"\\nC18 ve alt etiketlerinin toplam kullanım sayıları:\")\n",
    "print(\"-\" * 40)\n",
    "print(c18_counts)\n"
   ]
  },
  {
   "cell_type": "code",
   "execution_count": 116,
   "id": "ea38ab51",
   "metadata": {},
   "outputs": [
    {
     "name": "stderr",
     "output_type": "stream",
     "text": [
      "C:\\Users\\engin\\AppData\\Local\\Temp\\ipykernel_12704\\3662720926.py:12: PerformanceWarning: DataFrame is highly fragmented.  This is usually the result of calling `frame.insert` many times, which has poor performance.  Consider joining all columns at once using pd.concat(axis=1) instead. To get a de-fragmented frame, use `newframe = frame.copy()`\n",
      "  df[category] = 0\n",
      "C:\\Users\\engin\\AppData\\Local\\Temp\\ipykernel_12704\\3662720926.py:12: PerformanceWarning: DataFrame is highly fragmented.  This is usually the result of calling `frame.insert` many times, which has poor performance.  Consider joining all columns at once using pd.concat(axis=1) instead. To get a de-fragmented frame, use `newframe = frame.copy()`\n",
      "  df[category] = 0\n",
      "C:\\Users\\engin\\AppData\\Local\\Temp\\ipykernel_12704\\3662720926.py:12: PerformanceWarning: DataFrame is highly fragmented.  This is usually the result of calling `frame.insert` many times, which has poor performance.  Consider joining all columns at once using pd.concat(axis=1) instead. To get a de-fragmented frame, use `newframe = frame.copy()`\n",
      "  df[category] = 0\n",
      "C:\\Users\\engin\\AppData\\Local\\Temp\\ipykernel_12704\\3662720926.py:12: PerformanceWarning: DataFrame is highly fragmented.  This is usually the result of calling `frame.insert` many times, which has poor performance.  Consider joining all columns at once using pd.concat(axis=1) instead. To get a de-fragmented frame, use `newframe = frame.copy()`\n",
      "  df[category] = 0\n"
     ]
    },
    {
     "data": {
      "image/png": "[encoded data removed]",
      "text/plain": [
       "<Figure size 1200x600 with 1 Axes>"
      ]
     },
     "metadata": {},
     "output_type": "display_data"
    },
    {
     "name": "stdout",
     "output_type": "stream",
     "text": [
      "\n",
      "Ana kategorilerin kullanım sayıları:\n",
      "----------------------------------------\n",
      "İş & Endüstri         77690\n",
      "Ekonomi & Finans      56751\n",
      "Hükümet & Sosyal      49554\n",
      "Pazarlar & Ticaret    35631\n",
      "dtype: int64\n"
     ]
    }
   ],
   "source": [
    "# Etiketleri ana kategorilere göre gruplandır\n",
    "category_mapping = {\n",
    "    'CCAT': 'İş & Endüstri',\n",
    "    'ECAT': 'Ekonomi & Finans', \n",
    "    'GCAT': 'Hükümet & Sosyal',\n",
    "    'MCAT': 'Pazarlar & Ticaret'\n",
    "}\n",
    "\n",
    "# Ana kategori sütunlarını oluştur\n",
    "main_categories = list(set(category_mapping.values()))\n",
    "for category in main_categories:\n",
    "    df[category] = 0\n",
    "\n",
    "# Alt etiketleri ana kategorilere dönüştür\n",
    "for idx, row in df.iterrows():\n",
    "    for label in unique_labels:\n",
    "        # Teknoloji etiketlerini İş & Endüstri'ye ekle\n",
    "        if (label.startswith('C18') or label.startswith('C23') or \n",
    "            label.startswith('C26') or label.startswith('C46') or\n",
    "            label.startswith('C')):\n",
    "            if row[label] == 1:\n",
    "                df.at[idx, 'İş & Endüstri'] = 1\n",
    "        elif label.startswith('E') or (label.startswith('M') and label <= 'M25'):\n",
    "            if row[label] == 1:\n",
    "                df.at[idx, 'Ekonomi & Finans'] = 1\n",
    "        elif label.startswith('G'):\n",
    "            if row[label] == 1:\n",
    "                df.at[idx, 'Hükümet & Sosyal'] = 1\n",
    "        elif label.startswith('M') and label >= 'M35':\n",
    "            if row[label] == 1:\n",
    "                df.at[idx, 'Pazarlar & Ticaret'] = 1\n",
    "\n",
    "# Ana kategorilerin dağılımını göster\n",
    "main_category_counts = df[main_categories].sum().sort_values(ascending=False)\n",
    "\n",
    "plt.figure(figsize=(12, 6))\n",
    "plt.bar(main_category_counts.index, main_category_counts.values)\n",
    "plt.title('Ana Kategorilerin Dağılımı')\n",
    "plt.xlabel('Ana Kategoriler')\n",
    "plt.ylabel('Toplam Kullanım Sayısı')\n",
    "plt.xticks(rotation=45, ha='right')\n",
    "plt.tight_layout()\n",
    "plt.show()\n",
    "\n",
    "print(\"\\nAna kategorilerin kullanım sayıları:\")\n",
    "print(\"-\" * 40)\n",
    "print(main_category_counts)\n"
   ]
  },
  {
   "cell_type": "code",
   "execution_count": 117,
   "id": "daecad52",
   "metadata": {},
   "outputs": [
    {
     "name": "stdout",
     "output_type": "stream",
     "text": [
      "\n",
      "Tüm ana kategorilerin aynı anda 1 olduğu haber sayısı: 494\n",
      "Bu sayı toplam 158804 haberin %0.31'ine denk gelmektedir.\n"
     ]
    }
   ],
   "source": [
    "# Tüm ana kategorilerin 1 olduğu satırların sayısını bul\n",
    "all_categories_count = df[df[main_categories].all(axis=1)].shape[0]\n",
    "\n",
    "print(\"\\nTüm ana kategorilerin aynı anda 1 olduğu haber sayısı:\", all_categories_count)\n",
    "print(f\"Bu sayı toplam {len(df)} haberin %{(all_categories_count/len(df)*100):.2f}'ine denk gelmektedir.\")\n"
   ]
  },
  {
   "cell_type": "code",
   "execution_count": 118,
   "id": "9c0d6bbd",
   "metadata": {},
   "outputs": [
    {
     "name": "stdout",
     "output_type": "stream",
     "text": [
      "\n",
      "Ana kategoriler arasındaki kesişim sayıları:\n",
      "------------------------------------------------------------\n",
      "                   Hükümet & Sosyal Ekonomi & Finans Pazarlar & Ticaret  \\\n",
      "Hükümet & Sosyal              49554             8703               1316   \n",
      "Ekonomi & Finans               8703            56751              35519   \n",
      "Pazarlar & Ticaret             1316            35519              35631   \n",
      "İş & Endüstri                  9334            10684               4919   \n",
      "\n",
      "                   İş & Endüstri  \n",
      "Hükümet & Sosyal            9334  \n",
      "Ekonomi & Finans           10684  \n",
      "Pazarlar & Ticaret          4919  \n",
      "İş & Endüstri              77690  \n"
     ]
    },
    {
     "data": {
      "image/png": "[encoded data removed]",
      "text/plain": [
       "<Figure size 1000x800 with 2 Axes>"
      ]
     },
     "metadata": {},
     "output_type": "display_data"
    }
   ],
   "source": [
    "# Ana kategoriler arasındaki kesişimleri hesapla\n",
    "intersection_matrix = pd.DataFrame(index=main_categories, columns=main_categories)\n",
    "\n",
    "for cat1 in main_categories:\n",
    "    for cat2 in main_categories:\n",
    "        # İki kategorinin her ikisinde de 1 olan satır sayısını bul\n",
    "        intersection_count = df[(df[cat1] == 1) & (df[cat2] == 1)].shape[0]\n",
    "        intersection_matrix.at[cat1, cat2] = intersection_count\n",
    "\n",
    "print(\"\\nAna kategoriler arasındaki kesişim sayıları:\")\n",
    "print(\"-\" * 60)\n",
    "print(intersection_matrix)\n",
    "\n",
    "# Görselleştirme için heatmap\n",
    "plt.figure(figsize=(10, 8))\n",
    "# Convert DataFrame to numeric values for heatmap\n",
    "intersection_matrix_values = intersection_matrix.astype(float).values\n",
    "plt.imshow(intersection_matrix_values, cmap='YlOrRd')\n",
    "plt.colorbar()\n",
    "\n",
    "# Eksen etiketlerini ayarla\n",
    "plt.xticks(range(len(main_categories)), main_categories, rotation=45, ha='right')\n",
    "plt.yticks(range(len(main_categories)), main_categories)\n",
    "\n",
    "# Hücre değerlerini ekle\n",
    "for i in range(len(main_categories)):\n",
    "    for j in range(len(main_categories)):\n",
    "        plt.text(j, i, int(intersection_matrix.iloc[i, j]), \n",
    "                ha='center', va='center')\n",
    "\n",
    "plt.title('Ana Kategoriler Arasındaki Kesişim Sayıları')\n",
    "plt.tight_layout()\n",
    "plt.show()\n"
   ]
  },
  {
   "cell_type": "code",
   "execution_count": 119,
   "id": "ca8a9ba7",
   "metadata": {},
   "outputs": [
    {
     "name": "stdout",
     "output_type": "stream",
     "text": [
      "\n",
      "Haber metinlerinden örnekler:\n",
      "------------------------------------------------------------\n",
      "\n",
      "Örnek 1:\n",
      "recov recov recov recov excit excit bring mexic mexic mexic mexic mexic mexic mexic mexic mexic mexic market market market market market market market life emerg evident evident econom econom econom econom back back back track buzz tuesday tuesday tuesday tuesday tuesday stock stock stock clos record record high high high interest interest interest interest rate rate rate rate rate rate rate month low low low stag begin year ahead term term term term fundament fundament fundament matthew hickm lehm brother york point point point hist hist fall fall fall view etch mind invest cris decemb free peso peso peso stubborn week week quart gross domest domest produc report percent percent percent strong strong strong anal anal expect expect expect expect expect govern treasur bill cete cete second second fell level jan main pric index rally volum frenz million shar confound strength end long long contract drop benchmark auction remain stead feder reserv refrain rais short attract off robust return foreign grow grow confid victim crumbl focus lar schonand head head research research santand city city continu declin inflat gdp growth figur lack upward move move fact play felix boni boni jame capel posit technic uncertain argentin put neighbor brazil risk south americ wary lot hyp export led patch consum venge corpor earn justif run\n",
      "------------------------------------------------------------\n",
      "\n",
      "Örnek 2:\n",
      "uruguay uruguay compan compan compan bring limit limit mexic capac capac grab market market market market small small small portion emerg rival econom gener motor motor motor ford volkswagen ag tuesday tuesday tuesday stock stock target clos specif segment desir vehicl vehicl vehicl interest applic facil facil dakot dakot dakot low compact begin countr countr year year year year year cherok cherok cherok cherok cherok construc cordob provinc schedul build grand grand start start start york april output site select roll line mid modest invest invest invest invest invest invest invest ultimat unit unit unit unit unit annual annual annual free free employ peopl larg complet knock kit kit ship produc produc produc produc stat stat percent meet bloc local requir decid dodg brand brand brand name canad detroit italian design vm cylind turbocharg model instal miniv sold million million million million million million million million million europ support open dana end end johnson control lear lear techn ppg industr increas stead decad area polit stabl rise buy pow off venezuel neon car financ grow commit made rose cent exchang growth growth play play argentin argentin argentin argentin argentin argentin brazil brazil brazil brazil brazil brazil brazil brazil risk south south south americ americ americ americ americ consum chrysl chrysl chrysl chrysl chrysl chrysl chrysl chrysl chrysl chrysl chrysl chrysl chrysl chrysl chrysl chrysl chrysl plan latin latin corp corp corp corp corp corp corp announc announc includ includ includ includ assembl assembl assembl assembl assembl plant plant plant plant plant plant plant plant plant pickup pickup truck truck truck truck diesel diesel diesel diesel engin engin engin engin expand expand jeep jeep jeep jeep jeep jeep built built built caut rebuild intern intern present project worth worth rough total total total suppl suppl suppl suppl major major major role automak automak automak automak glob strateg chairm robert eaton eaton eaton eaton don don intend intend make risky add add thom gale execut execut vice presid operat content content pace region region region solid opportun boost sale sale sale mercosur mercosur mercosur mercosur mercosur trad trad trad zone zone group paraguay paraguay\n",
      "------------------------------------------------------------\n",
      "\n",
      "Örnek 3:\n",
      "spun stak compan compan compan compan compan compan compan compan compan nasdaq early market market tuesday stock clos month month year year year year roll invest modest unit annual peopl larg quart quart quart quart quart quart quart quart quart produc produc produc stat report report report percent percent expect expect expect expect expect expect million million million million million million million million million million million shar shar shar shar end drop increas financ made cent cent cent cent cent cent compuserv compuserv compuserv compuserv compuserv compuserv compuserv compuserv compuserv compuserv compuserv compuserv loss loss loss loss loss loss loss loss cut cut cut cut work work forc forc continu surpris declin declin fisc fisc fisc fisc fisc blam blam numb numb numb numb subscrib subscrib subscrib subscrib subscrib subscrib subscrib onlin onlin onlin onlin servic servic servic servic servic servic servic servic spend fami fami orient orient improv improv improv improv predict half half take step revital chief bob massey massey massey job part part cost cost cost program save americ basi columbus ohio base sell sell spry web brows trail simil netscap earn commun microsoft july july compar profit result result corp corp corp announc pretax charg includ includ includ post actual great wall street revenu revenu expand prev comment cancel exceed flag inform memb memb worldw niftyserv niftyserv joint ventur total japan japan found wow wow infrastructur hit due late version softwar need access make releas releas featur teen parent forecast rosy execut coupl aggress campaign fourth top mark licens advert fee electron commerc trad subsid tax prepar block\n",
      "------------------------------------------------------------\n",
      "\n",
      "Örnek 4:\n",
      "compan compan limit planet planet planet planet planet hollywood hollywood hollywood hollywood hollywood hollywood launch credit credit credit credit card card card card dine feel movie movie star money arnold schwarzeneg them restaur restaur rate applic chain fast outlet festoon kitsch memorabl team william mor talent agent mbna bank wilmington del perk prefer roll seat edition shirt discount food merchandis annual annual join pop cultur ston magazin issu debt fun usual stat percent percent approv pay special introduc balanc transf cash brand advanc check orland florid off grow made spend part americ base includ intern don make fee\n",
      "------------------------------------------------------------\n",
      "\n",
      "Örnek 5:\n",
      "compan compan limit limit limit market market market small small small emerg tuesday tuesday tuesday clos clos clos clos clos clos clos high high high high high low low low low countr countr year york york york point decemb decemb decemb peopl larg week week produc produc report anal anal anal govern cash fell fell fell fell level level hog hog hog hog hog hog hog hog hog tumbl cocoa cocoa cocoa cocoa cocoa cocoa pric pric pric pric pric pric index gain slaught slaught slaught slaught show show futur futur futur futur futur anticip anticip crop crop crop crop crop overse overse shrink end end end deliv pull contract contract contract coffee coffee coffee coffee crud crud crud oil oil oil monday gold gold edg increas increas increas increas commod commod bureau chicag mercantil mercantil august august august august rise buy buy buy pork pork pork pork pork belly belly belly finish respect daily daily pressur weak worry side rose focus cent cent cent cent cent cent cent cent cent cent cent cent import pack pack exchang exchang exchang exchang freedom head margin doug research harp brock assoc senior livestock pinch meat quick figur bid agricultur depart ago fact near improv cme cme pound pound pound pound take sharp sharp sharp transl sugar specul buoy new new updat ivory ivory coast coast estimat rang settl settl basi metric metric ton ton base ivorian problem ghan prelimin peg factor bar revis burst session chart chart day wide profit profit watch break resist inspir driv wednesday refin septemb septemb septemb septemb unlead gasolin gallon gallon heat barrel ounc suppl suppl suppl suppl suppl late add add forecast forecast mark trad\n",
      "------------------------------------------------------------\n"
     ]
    }
   ],
   "source": [
    "# Metin örneklerini göster\n",
    "print(\"\\nHaber metinlerinden örnekler:\")\n",
    "print(\"-\" * 60)\n",
    "for i in range(5):  # İlk 5 örneği göster\n",
    "    print(f\"\\nÖrnek {i+1}:\")\n",
    "    print(df['text'].iloc[i])\n",
    "    print(\"-\" * 60)\n"
   ]
  },
  {
   "cell_type": "code",
   "execution_count": 120,
   "id": "8fa530f1",
   "metadata": {},
   "outputs": [
    {
     "name": "stdout",
     "output_type": "stream",
     "text": [
      "\n",
      "Tekrar eden kelimeler düzeltildikten sonra örnekler:\n",
      "------------------------------------------------------------\n",
      "\n",
      "Örnek 1:\n",
      "recov excit bring mexic market life emerg evident econom back track buzz tuesday stock clos record high interest rate month low stag begin year ahead term fundament matthew hickm lehm brother york point hist fall view etch mind invest cris decemb free peso stubborn week quart gross domest produc report percent strong anal expect govern treasur bill cete second fell level jan main pric index rally volum frenz million shar confound strength end long contract drop benchmark auction remain stead feder reserv refrain rais short attract off robust return foreign grow confid victim crumbl focus lar schonand head research santand city continu declin inflat gdp growth figur lack upward move fact play felix boni jame capel posit technic uncertain argentin put neighbor brazil risk south americ wary lot hyp export led patch consum venge corpor earn justif run\n",
      "------------------------------------------------------------\n",
      "\n",
      "Örnek 2:\n",
      "uruguay compan bring limit mexic capac grab market small portion emerg rival econom gener motor ford volkswagen ag tuesday stock target clos specif segment desir vehicl interest applic facil dakot low compact begin countr year cherok construc cordob provinc schedul build grand start york april output site select roll line mid modest invest ultimat unit annual free employ peopl larg complet knock kit ship produc stat percent meet bloc local requir decid dodg brand name canad detroit italian design vm cylind turbocharg model instal miniv sold million europ support open dana end johnson control lear techn ppg industr increas stead decad area polit stabl rise buy pow off venezuel neon car financ grow commit made rose cent exchang growth play argentin brazil risk south americ consum chrysl plan latin corp announc includ assembl plant pickup truck diesel engin expand jeep built caut rebuild intern present project worth rough total suppl major role automak glob strateg chairm robert eaton don intend make risky add thom gale execut vice presid operat content pace region solid opportun boost sale mercosur trad zone group paraguay\n",
      "------------------------------------------------------------\n",
      "\n",
      "Örnek 3:\n",
      "spun stak compan nasdaq early market tuesday stock clos month year roll invest modest unit annual peopl larg quart produc stat report percent expect million shar end drop increas financ made cent compuserv loss cut work forc continu surpris declin fisc blam numb subscrib onlin servic spend fami orient improv predict half take step revital chief bob massey job part cost program save americ basi columbus ohio base sell spry web brows trail simil netscap earn commun microsoft july compar profit result corp announc pretax charg includ post actual great wall street revenu expand prev comment cancel exceed flag inform memb worldw niftyserv joint ventur total japan found wow infrastructur hit due late version softwar need access make releas featur teen parent forecast rosy execut coupl aggress campaign fourth top mark licens advert fee electron commerc trad subsid tax prepar block\n",
      "------------------------------------------------------------\n",
      "\n",
      "Örnek 4:\n",
      "compan limit planet hollywood launch credit card dine feel movie star money arnold schwarzeneg them restaur rate applic chain fast outlet festoon kitsch memorabl team william mor talent agent mbna bank wilmington del perk prefer roll seat edition shirt discount food merchandis annual join pop cultur ston magazin issu debt fun usual stat percent approv pay special introduc balanc transf cash brand advanc check orland florid off grow made spend part americ base includ intern don make fee\n",
      "------------------------------------------------------------\n",
      "\n",
      "Örnek 5:\n",
      "compan limit market small emerg tuesday clos high low countr year york point decemb peopl larg week produc report anal govern cash fell level hog tumbl cocoa pric index gain slaught show futur anticip crop overse shrink end deliv pull contract coffee crud oil monday gold edg increas commod bureau chicag mercantil august rise buy pork belly finish respect daily pressur weak worry side rose focus cent import pack exchang freedom head margin doug research harp brock assoc senior livestock pinch meat quick figur bid agricultur depart ago fact near improv cme pound take sharp transl sugar specul buoy new updat ivory coast estimat rang settl basi metric ton base ivorian problem ghan prelimin peg factor bar revis burst session chart day wide profit watch break resist inspir driv wednesday refin septemb unlead gasolin gallon heat barrel ounc suppl late add forecast mark trad\n",
      "------------------------------------------------------------\n"
     ]
    }
   ],
   "source": [
    "# Tekrar eden kelimeleri düzeltme\n",
    "def remove_repeated_words(text):\n",
    "    if pd.isna(text):\n",
    "        return text\n",
    "        \n",
    "    # Kelimeleri boşluklara göre ayır\n",
    "    words = text.split()\n",
    "    \n",
    "    # Ardışık tekrar eden kelimeleri kaldır\n",
    "    cleaned_words = []\n",
    "    prev_word = None\n",
    "    \n",
    "    for word in words:\n",
    "        if word != prev_word:\n",
    "            cleaned_words.append(word)\n",
    "        prev_word = word\n",
    "    \n",
    "    # Kelimeleri tekrar birleştir\n",
    "    return ' '.join(cleaned_words)\n",
    "\n",
    "# Text sütununa düzeltmeyi uygula\n",
    "df['text'] = df['text'].apply(remove_repeated_words)\n",
    "\n",
    "print(\"\\nTekrar eden kelimeler düzeltildikten sonra örnekler:\")\n",
    "print(\"-\" * 60)\n",
    "for i in range(5):  # İlk 5 örneği göster\n",
    "    print(f\"\\nÖrnek {i+1}:\")\n",
    "    print(df['text'].iloc[i])\n",
    "    print(\"-\" * 60)\n"
   ]
  },
  {
   "cell_type": "code",
   "execution_count": 121,
   "id": "4611edd9",
   "metadata": {},
   "outputs": [
    {
     "data": {
      "text/html": [
       "<div>\n",
       "<style scoped>\n",
       "    .dataframe tbody tr th:only-of-type {\n",
       "        vertical-align: middle;\n",
       "    }\n",
       "\n",
       "    .dataframe tbody tr th {\n",
       "        vertical-align: top;\n",
       "    }\n",
       "\n",
       "    .dataframe thead th {\n",
       "        text-align: right;\n",
       "    }\n",
       "</style>\n",
       "<table border=\"1\" class=\"dataframe\">\n",
       "  <thead>\n",
       "    <tr style=\"text-align: right;\">\n",
       "      <th></th>\n",
       "      <th>id</th>\n",
       "      <th>label</th>\n",
       "      <th>text</th>\n",
       "      <th>E142</th>\n",
       "      <th>GDEF</th>\n",
       "      <th>C42</th>\n",
       "      <th>M143</th>\n",
       "      <th>C331</th>\n",
       "      <th>M13</th>\n",
       "      <th>C313</th>\n",
       "      <th>...</th>\n",
       "      <th>ECAT</th>\n",
       "      <th>G15</th>\n",
       "      <th>GWELF</th>\n",
       "      <th>GPOL</th>\n",
       "      <th>M131</th>\n",
       "      <th>GFAS</th>\n",
       "      <th>Hükümet &amp; Sosyal</th>\n",
       "      <th>Ekonomi &amp; Finans</th>\n",
       "      <th>Pazarlar &amp; Ticaret</th>\n",
       "      <th>İş &amp; Endüstri</th>\n",
       "    </tr>\n",
       "  </thead>\n",
       "  <tbody>\n",
       "    <tr>\n",
       "      <th>0</th>\n",
       "      <td>2286</td>\n",
       "      <td>E11 ECAT M11 M12 MCAT</td>\n",
       "      <td>recov excit bring mexic market life emerg evid...</td>\n",
       "      <td>0</td>\n",
       "      <td>0</td>\n",
       "      <td>0</td>\n",
       "      <td>0</td>\n",
       "      <td>0</td>\n",
       "      <td>0</td>\n",
       "      <td>0</td>\n",
       "      <td>...</td>\n",
       "      <td>1</td>\n",
       "      <td>0</td>\n",
       "      <td>0</td>\n",
       "      <td>0</td>\n",
       "      <td>0</td>\n",
       "      <td>0</td>\n",
       "      <td>0</td>\n",
       "      <td>1</td>\n",
       "      <td>1</td>\n",
       "      <td>0</td>\n",
       "    </tr>\n",
       "    <tr>\n",
       "      <th>1</th>\n",
       "      <td>2287</td>\n",
       "      <td>C24 CCAT</td>\n",
       "      <td>uruguay compan bring limit mexic capac grab ma...</td>\n",
       "      <td>0</td>\n",
       "      <td>0</td>\n",
       "      <td>0</td>\n",
       "      <td>0</td>\n",
       "      <td>0</td>\n",
       "      <td>0</td>\n",
       "      <td>0</td>\n",
       "      <td>...</td>\n",
       "      <td>0</td>\n",
       "      <td>0</td>\n",
       "      <td>0</td>\n",
       "      <td>0</td>\n",
       "      <td>0</td>\n",
       "      <td>0</td>\n",
       "      <td>0</td>\n",
       "      <td>0</td>\n",
       "      <td>0</td>\n",
       "      <td>1</td>\n",
       "    </tr>\n",
       "    <tr>\n",
       "      <th>2</th>\n",
       "      <td>2288</td>\n",
       "      <td>C151 C15 CCAT E41 ECAT GCAT GJOB</td>\n",
       "      <td>spun stak compan nasdaq early market tuesday s...</td>\n",
       "      <td>0</td>\n",
       "      <td>0</td>\n",
       "      <td>0</td>\n",
       "      <td>0</td>\n",
       "      <td>0</td>\n",
       "      <td>0</td>\n",
       "      <td>0</td>\n",
       "      <td>...</td>\n",
       "      <td>1</td>\n",
       "      <td>0</td>\n",
       "      <td>0</td>\n",
       "      <td>0</td>\n",
       "      <td>0</td>\n",
       "      <td>0</td>\n",
       "      <td>1</td>\n",
       "      <td>1</td>\n",
       "      <td>0</td>\n",
       "      <td>1</td>\n",
       "    </tr>\n",
       "    <tr>\n",
       "      <th>3</th>\n",
       "      <td>2290</td>\n",
       "      <td>C11 C22 CCAT</td>\n",
       "      <td>compan limit planet hollywood launch credit ca...</td>\n",
       "      <td>0</td>\n",
       "      <td>0</td>\n",
       "      <td>0</td>\n",
       "      <td>0</td>\n",
       "      <td>0</td>\n",
       "      <td>0</td>\n",
       "      <td>0</td>\n",
       "      <td>...</td>\n",
       "      <td>0</td>\n",
       "      <td>0</td>\n",
       "      <td>0</td>\n",
       "      <td>0</td>\n",
       "      <td>0</td>\n",
       "      <td>0</td>\n",
       "      <td>0</td>\n",
       "      <td>0</td>\n",
       "      <td>0</td>\n",
       "      <td>1</td>\n",
       "    </tr>\n",
       "    <tr>\n",
       "      <th>4</th>\n",
       "      <td>2291</td>\n",
       "      <td>M14 MCAT</td>\n",
       "      <td>compan limit market small emerg tuesday clos h...</td>\n",
       "      <td>0</td>\n",
       "      <td>0</td>\n",
       "      <td>0</td>\n",
       "      <td>0</td>\n",
       "      <td>0</td>\n",
       "      <td>0</td>\n",
       "      <td>0</td>\n",
       "      <td>...</td>\n",
       "      <td>0</td>\n",
       "      <td>0</td>\n",
       "      <td>0</td>\n",
       "      <td>0</td>\n",
       "      <td>0</td>\n",
       "      <td>0</td>\n",
       "      <td>0</td>\n",
       "      <td>1</td>\n",
       "      <td>1</td>\n",
       "      <td>0</td>\n",
       "    </tr>\n",
       "  </tbody>\n",
       "</table>\n",
       "<p>5 rows × 109 columns</p>\n",
       "</div>"
      ],
      "text/plain": [
       "     id                             label  \\\n",
       "0  2286             E11 ECAT M11 M12 MCAT   \n",
       "1  2287                          C24 CCAT   \n",
       "2  2288  C151 C15 CCAT E41 ECAT GCAT GJOB   \n",
       "3  2290                      C11 C22 CCAT   \n",
       "4  2291                          M14 MCAT   \n",
       "\n",
       "                                                text  E142  GDEF  C42  M143  \\\n",
       "0  recov excit bring mexic market life emerg evid...     0     0    0     0   \n",
       "1  uruguay compan bring limit mexic capac grab ma...     0     0    0     0   \n",
       "2  spun stak compan nasdaq early market tuesday s...     0     0    0     0   \n",
       "3  compan limit planet hollywood launch credit ca...     0     0    0     0   \n",
       "4  compan limit market small emerg tuesday clos h...     0     0    0     0   \n",
       "\n",
       "   C331  M13  C313  ...  ECAT  G15  GWELF  GPOL  M131  GFAS  Hükümet & Sosyal  \\\n",
       "0     0    0     0  ...     1    0      0     0     0     0                 0   \n",
       "1     0    0     0  ...     0    0      0     0     0     0                 0   \n",
       "2     0    0     0  ...     1    0      0     0     0     0                 1   \n",
       "3     0    0     0  ...     0    0      0     0     0     0                 0   \n",
       "4     0    0     0  ...     0    0      0     0     0     0                 0   \n",
       "\n",
       "   Ekonomi & Finans  Pazarlar & Ticaret  İş & Endüstri  \n",
       "0                 1                   1              0  \n",
       "1                 0                   0              1  \n",
       "2                 1                   0              1  \n",
       "3                 0                   0              1  \n",
       "4                 1                   1              0  \n",
       "\n",
       "[5 rows x 109 columns]"
      ]
     },
     "execution_count": 121,
     "metadata": {},
     "output_type": "execute_result"
    }
   ],
   "source": [
    "df.head()"
   ]
  },
  {
   "cell_type": "code",
   "execution_count": 123,
   "id": "d55cdf33",
   "metadata": {},
   "outputs": [
    {
     "name": "stdout",
     "output_type": "stream",
     "text": [
      "\n",
      "Sütunların yeni sırası:\n",
      "['text', 'Hükümet & Sosyal', 'Ekonomi & Finans', 'Pazarlar & Ticaret', 'İş & Endüstri']\n",
      "\n",
      "Veri setinin ilk birkaç satırı:\n"
     ]
    },
    {
     "data": {
      "text/html": [
       "<div>\n",
       "<style scoped>\n",
       "    .dataframe tbody tr th:only-of-type {\n",
       "        vertical-align: middle;\n",
       "    }\n",
       "\n",
       "    .dataframe tbody tr th {\n",
       "        vertical-align: top;\n",
       "    }\n",
       "\n",
       "    .dataframe thead th {\n",
       "        text-align: right;\n",
       "    }\n",
       "</style>\n",
       "<table border=\"1\" class=\"dataframe\">\n",
       "  <thead>\n",
       "    <tr style=\"text-align: right;\">\n",
       "      <th></th>\n",
       "      <th>text</th>\n",
       "      <th>Hükümet &amp; Sosyal</th>\n",
       "      <th>Ekonomi &amp; Finans</th>\n",
       "      <th>Pazarlar &amp; Ticaret</th>\n",
       "      <th>İş &amp; Endüstri</th>\n",
       "    </tr>\n",
       "  </thead>\n",
       "  <tbody>\n",
       "    <tr>\n",
       "      <th>0</th>\n",
       "      <td>recov excit bring mexic market life emerg evid...</td>\n",
       "      <td>0</td>\n",
       "      <td>1</td>\n",
       "      <td>1</td>\n",
       "      <td>0</td>\n",
       "    </tr>\n",
       "    <tr>\n",
       "      <th>1</th>\n",
       "      <td>uruguay compan bring limit mexic capac grab ma...</td>\n",
       "      <td>0</td>\n",
       "      <td>0</td>\n",
       "      <td>0</td>\n",
       "      <td>1</td>\n",
       "    </tr>\n",
       "    <tr>\n",
       "      <th>2</th>\n",
       "      <td>spun stak compan nasdaq early market tuesday s...</td>\n",
       "      <td>1</td>\n",
       "      <td>1</td>\n",
       "      <td>0</td>\n",
       "      <td>1</td>\n",
       "    </tr>\n",
       "    <tr>\n",
       "      <th>3</th>\n",
       "      <td>compan limit planet hollywood launch credit ca...</td>\n",
       "      <td>0</td>\n",
       "      <td>0</td>\n",
       "      <td>0</td>\n",
       "      <td>1</td>\n",
       "    </tr>\n",
       "    <tr>\n",
       "      <th>4</th>\n",
       "      <td>compan limit market small emerg tuesday clos h...</td>\n",
       "      <td>0</td>\n",
       "      <td>1</td>\n",
       "      <td>1</td>\n",
       "      <td>0</td>\n",
       "    </tr>\n",
       "  </tbody>\n",
       "</table>\n",
       "</div>"
      ],
      "text/plain": [
       "                                                text  Hükümet & Sosyal  \\\n",
       "0  recov excit bring mexic market life emerg evid...                 0   \n",
       "1  uruguay compan bring limit mexic capac grab ma...                 0   \n",
       "2  spun stak compan nasdaq early market tuesday s...                 1   \n",
       "3  compan limit planet hollywood launch credit ca...                 0   \n",
       "4  compan limit market small emerg tuesday clos h...                 0   \n",
       "\n",
       "   Ekonomi & Finans  Pazarlar & Ticaret  İş & Endüstri  \n",
       "0                 1                   1              0  \n",
       "1                 0                   0              1  \n",
       "2                 1                   0              1  \n",
       "3                 0                   0              1  \n",
       "4                 1                   1              0  "
      ]
     },
     "execution_count": 123,
     "metadata": {},
     "output_type": "execute_result"
    }
   ],
   "source": [
    "# Sadece belirtilen sütunları tut\n",
    "columns_to_keep = ['Hükümet & Sosyal', 'Ekonomi & Finans', 'Pazarlar & Ticaret', 'İş & Endüstri', 'text']\n",
    "df = df[columns_to_keep]\n",
    "\n",
    "\n",
    "\n",
    "cols = df.columns.tolist()\n",
    "cols = ['text'] + [col for col in cols if col != 'text']\n",
    "df = df[cols]\n",
    "\n",
    "print(\"\\nSütunların yeni sırası:\")\n",
    "print(df.columns.tolist())\n",
    "print(\"\\nVeri setinin ilk birkaç satırı:\")\n",
    "df.head()\n"
   ]
  },
  {
   "cell_type": "code",
   "execution_count": 124,
   "id": "74a74e3a",
   "metadata": {},
   "outputs": [
    {
     "name": "stdout",
     "output_type": "stream",
     "text": [
      "\n",
      "Veri seti 'preprocessed_dataset_3.csv' olarak kaydedildi.\n"
     ]
    }
   ],
   "source": [
    "# Veri setini CSV olarak kaydet\n",
    "df.to_csv('preprocessed_dataset_3.csv', index=False)\n",
    "print(\"\\nVeri seti 'preprocessed_dataset_3.csv' olarak kaydedildi.\")\n"
   ]
  }
 ],
 "metadata": {
  "kernelspec": {
   "display_name": "py3.9",
   "language": "python",
   "name": "python3"
  },
  "language_info": {
   "codemirror_mode": {
    "name": "ipython",
    "version": 3
   },
   "file_extension": ".py",
   "mimetype": "text/x-python",
   "name": "python",
   "nbconvert_exporter": "python",
   "pygments_lexer": "ipython3",
   "version": "3.9.21"
  }
 },
 "nbformat": 4,
 "nbformat_minor": 5
}
